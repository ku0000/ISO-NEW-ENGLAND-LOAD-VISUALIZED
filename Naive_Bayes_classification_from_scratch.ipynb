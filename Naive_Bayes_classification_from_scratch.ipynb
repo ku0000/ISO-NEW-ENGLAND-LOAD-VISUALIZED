{
 "cells": [
  {
   "cell_type": "code",
   "execution_count": 1,
   "metadata": {},
   "outputs": [],
   "source": [
    "import numpy as np\n",
    "import sklearn\n",
    "from sklearn.model_selection import train_test_split\n",
    "from sklearn import datasets\n",
    "from sklearn import metrics \n"
   ]
  },
  {
   "cell_type": "code",
   "execution_count": 2,
   "metadata": {},
   "outputs": [],
   "source": [
    "X,y=datasets.make_classification(n_samples=100,n_features=10,n_classes=2,random_state=123)"
   ]
  },
  {
   "cell_type": "code",
   "execution_count": 3,
   "metadata": {},
   "outputs": [],
   "source": [
    "X_train,X_test,y_train,y_test=train_test_split(X,y,test_size=0.2,random_state=123)"
   ]
  },
  {
   "cell_type": "code",
   "execution_count": null,
   "metadata": {},
   "outputs": [],
   "source": []
  },
  {
   "cell_type": "code",
   "execution_count": 4,
   "metadata": {},
   "outputs": [],
   "source": [
    "\n",
    "class NaiveBayes:\n",
    "\n",
    "\tdef fit(self,X,y):\n",
    "\t\tn_sample,n_feature=X.shape\n",
    "\t\tself._classes=np.unique(y)\n",
    "\t\tn_classes=len(self._classes)\n",
    "\n",
    "\n",
    "\t\t#init mean,varianve,prioirs\n",
    "\t\tself._mean=np.zeros((n_classes,n_feature),dtype=np.float64)\n",
    "\t\tself._var=np.zeros((n_classes,n_feature),dtype=np.float64)\n",
    "\t\tself._priors=np.zeros(n_classes,dtype=np.float64)\n",
    "\n",
    "\n",
    "\n",
    "\t\tfor idx, c in enumerate(self._classes):\n",
    "\t\t\tX_c=X[y==c]\n",
    "\t\t\tself._mean[idx,:]=X_c.mean(axis=0)\n",
    "\t\t\tself._var[idx,:]=X_c.var(axis=0)\n",
    "\t\t\tself._priors[idx]=X_c.shape[0]/ float(n_sample)\n",
    "\n",
    "\n",
    "\n",
    "\tdef predict(self,X):\n",
    "\t\ty_pred=[self._predict(x) for x in X]\n",
    "\t\treturn np.array(y_pred)\n",
    "\n",
    "\tdef _predict(self,x):\n",
    "\t    posteriors=[]\n",
    "\n",
    "\t    #probability of each class\n",
    "\n",
    "\t    for idx ,c in enumerate(self._classes):\n",
    "\t    \tprior=np.log(self._priors[idx])\n",
    "\t    \tclass_condition=np.sum(np.log(self._pdf(idx,x)))\n",
    "\t    \tposterior=prior+class_condition\n",
    "\t    \tposteriors.append(posterior)\n",
    "\t    return self._classes[np.argmax(posteriors)]\n",
    "\t    #return class with highest probability\n",
    "\n",
    "\n",
    "#pdf used for gaussasin distribution:\n",
    "\tdef _pdf(self,class_idx,x):\n",
    "\t \tmean=self._mean[class_idx]\n",
    "\t \tvar=self._var[class_idx]\n",
    "\t \tnumerator=np.exp(-(x-mean)**2/(2*var))\n",
    "\t \tdenominator=np.sqrt(2*np.pi*var)\n",
    "\t \treturn numerator/denominator\n"
   ]
  },
  {
   "cell_type": "code",
   "execution_count": 5,
   "metadata": {},
   "outputs": [
    {
     "data": {
      "text/plain": [
       "array([0, 1, 1, 0, 0, 1, 0, 0, 0, 1, 1, 0, 0, 0, 0, 0, 1, 0, 1, 1])"
      ]
     },
     "execution_count": 5,
     "metadata": {},
     "output_type": "execute_result"
    }
   ],
   "source": [
    "nb=NaiveBayes()\n",
    "nb.fit(X_train,y_train)\n",
    "final=nb.predict(X_test)\n",
    "final\n"
   ]
  },
  {
   "cell_type": "code",
   "execution_count": 6,
   "metadata": {},
   "outputs": [],
   "source": [
    "accuracy = metrics.accuracy_score(y_test, final)"
   ]
  },
  {
   "cell_type": "code",
   "execution_count": 7,
   "metadata": {},
   "outputs": [
    {
     "data": {
      "text/plain": [
       "0.9"
      ]
     },
     "execution_count": 7,
     "metadata": {},
     "output_type": "execute_result"
    }
   ],
   "source": [
    "accuracy"
   ]
  },
  {
   "cell_type": "code",
   "execution_count": null,
   "metadata": {},
   "outputs": [],
   "source": []
  }
 ],
 "metadata": {
  "kernelspec": {
   "display_name": "Python 3",
   "language": "python",
   "name": "python3"
  },
  "language_info": {
   "codemirror_mode": {
    "name": "ipython",
    "version": 3
   },
   "file_extension": ".py",
   "mimetype": "text/x-python",
   "name": "python",
   "nbconvert_exporter": "python",
   "pygments_lexer": "ipython3",
   "version": "3.7.3"
  }
 },
 "nbformat": 4,
 "nbformat_minor": 2
}
