{
 "cells": [
  {
   "cell_type": "markdown",
   "metadata": {},
   "source": [
    "7) We try here python implementation of detecting a noise in a given data with the Density-based spatial clustering of applications with noise (DBSCAN)"
   ]
  },
  {
   "cell_type": "code",
   "execution_count": 34,
   "metadata": {},
   "outputs": [
    {
     "name": "stdout",
     "output_type": "stream",
     "text": [
      "[0 0 0 0 0 0 0 0 0 0 0 0 0 0 0 0 0 0 0 0 0 0 0 0 0 0 0 0 0 0 0 0 0 0 0 0 0\n",
      " 0 0 0 0 0 0 0 0 0 0 0 0 0 0 0 0 0 0 0 0 0 0 0 0 0 0 0 0 0 0 0 0 0 0 0 0 0\n",
      " 0 0 0 0 0 0 0 0 0 0 0 0 0 0 0 0 0 0 0 0 0 0 0 0 0 0 0 0 0 0 0 0 0 0 0 0 0\n",
      " 0 0 0 0 0 0 0 0 0 0 0 0 0 0 0 0 0 0 0 0 0 0 0 0 0 0 0 0 0 0 0 0 0 0 0 0 0\n",
      " 0 1 2 2 2 2 2 2 2 2 2 2 2 2 2 2 2 2 2 2 2 2 2 2 2 2 2 2 2 2 2 2 2 2 2 2 2\n",
      " 2 2 2 2 2 2 2 2 2 2 2 2 2 2 2 2 2 2 2 2 2 2 2 3 2 2 2 2 2 2 2 2 2 2 2 2 2\n",
      " 2 2 2 2 2 2 2 2 2 2 2 2 2 2 2 2 2 2 2 2 2 2 2 2 2 2 2 2 2 2 2 2 2 2 2 2 2\n",
      " 2 2 2 2 2 2 2 2 2 2 2 2 2 2 2 2 2 2 2 2 2 2 2 2 2 2 2 2 2 2 2 2 2 2 2 2 2\n",
      " 2 2 2 4]\n"
     ]
    }
   ],
   "source": [
    "import numpy as np\n",
    "import pandas as pd\n",
    "import math\n",
    "import matplotlib.pyplot as plt\n",
    "from sklearn import datasets\n",
    "\n",
    "\n",
    "class DBSCAN():\n",
    "    \"\"\"A density based clustering method that expands clusters from \n",
    "    samples that have more neighbors within a radius specified by eps\n",
    "    than the value min_samples.\n",
    "    Parameters:\n",
    "    -----------\n",
    "    eps: float\n",
    "        The radius within which samples are considered neighbors\n",
    "    min_samples: int\n",
    "        The number of neighbors required for the sample to be a core point. \n",
    "    \"\"\"\n",
    "\n",
    "    def __init__(self, eps=1, min_samples=5):\n",
    "        self.eps = eps\n",
    "        self.min_samples = min_samples\n",
    "\n",
    "    def _euclidean_distance(self, x1, x2):\n",
    "        distance = 0\n",
    "        # Squared distance between each coordinate\n",
    "        for i in range(len(x1)):\n",
    "            distance += pow((x1[i] - x2[i]), 2)\n",
    "        return math.sqrt(distance)\n",
    "\n",
    "    def _get_neighbors(self, sample_i):\n",
    "        \"\"\" Return a list of indexes of neighboring samples\n",
    "        A sample_2 is considered a neighbor of sample_1 if the distance between\n",
    "        them is smaller than epsilon \"\"\"\n",
    "        neighbors = []\n",
    "        idxs = np.arange(len(self.X))\n",
    "        for i, _sample in enumerate(self.X[idxs != sample_i]):\n",
    "            distance = self._euclidean_distance(self.X[sample_i], _sample)\n",
    "            if distance < self.eps:\n",
    "                neighbors.append(i)\n",
    "        return np.array(neighbors)\n",
    "\n",
    "    def _expand_cluster(self, sample_i, neighbors):\n",
    "        \"\"\" Recursive method which expands the cluster until we have reached the border\n",
    "        of the dense area (density determined by eps and min_samples) \"\"\"\n",
    "        cluster = [sample_i]\n",
    "        # Iterate through neighbors\n",
    "        for neighbor_i in neighbors:\n",
    "            if not neighbor_i in self.visited_samples:\n",
    "                self.visited_samples.append(neighbor_i)\n",
    "                # Fetch the sample's distant neighbors (neighbors of neighbor)\n",
    "                self.neighbors[neighbor_i] = self._get_neighbors(neighbor_i)\n",
    "                # Make sure the neighbor's neighbors are more than min_samples\n",
    "                # (If this is true the neighbor is a core point)\n",
    "                if len(self.neighbors[neighbor_i]) >= self.min_samples:\n",
    "                    # Expand the cluster from the neighbor\n",
    "                    expanded_cluster = self._expand_cluster(\n",
    "                        neighbor_i, self.neighbors[neighbor_i])\n",
    "                    # Add expanded cluster to this cluster\n",
    "                    cluster = cluster + expanded_cluster\n",
    "                else:\n",
    "                    # If the neighbor is not a core point we only add the neighbor point\n",
    "                    cluster.append(neighbor_i)\n",
    "        return cluster\n",
    "\n",
    "    def _get_cluster_labels(self):\n",
    "        \"\"\" Return the samples labels as the index of the cluster in which they are\n",
    "        contained \"\"\"\n",
    "        # Set default value to number of clusters\n",
    "        # Will make sure all outliers have same cluster label\n",
    "        labels = np.full(shape=self.X.shape[0], fill_value=len(self.clusters))\n",
    "        for cluster_i, cluster in enumerate(self.clusters):\n",
    "            for sample_i in cluster:\n",
    "                labels[sample_i] = cluster_i\n",
    "        return labels\n",
    "\n",
    "    # DBSCAN\n",
    "    def predict(self, X):\n",
    "        self.X = X\n",
    "        self.clusters = []\n",
    "        self.visited_samples = []\n",
    "        self.neighbors = {}\n",
    "        n_samples = np.shape(self.X)[0]\n",
    "        # Iterate through samples and expand clusters from them\n",
    "        # if they have more neighbors than self.min_samples\n",
    "        for sample_i in range(n_samples):\n",
    "            if sample_i in self.visited_samples:\n",
    "                continue\n",
    "            self.neighbors[sample_i] = self._get_neighbors(sample_i)\n",
    "            if len(self.neighbors[sample_i]) >= self.min_samples:\n",
    "                # If core point => mark as visited\n",
    "                self.visited_samples.append(sample_i)\n",
    "                # Sample has more neighbors than self.min_samples => expand\n",
    "                # cluster from sample\n",
    "                new_cluster = self._expand_cluster(\n",
    "                    sample_i, self.neighbors[sample_i])\n",
    "                # Add cluster to list of clusters\n",
    "                self.clusters.append(new_cluster)\n",
    "\n",
    "        # Get the resulting cluster labels\n",
    "        cluster_labels = self._get_cluster_labels()\n",
    "        return cluster_labels\n",
    "\n",
    "\n",
    "if __name__ == \"__main__\":\n",
    "    X, y = datasets.make_moons(n_samples=300, noise=0.08, shuffle=False)\n",
    "    clf = DBSCAN(eps=0.17, min_samples=5)\n",
    "    y_pred = clf.predict(X)  # label\n",
    "    labels = y_pred\n",
    "    print(labels)\n",
    "    \n"
   ]
  },
  {
   "cell_type": "code",
   "execution_count": 44,
   "metadata": {},
   "outputs": [
    {
     "data": {
      "text/plain": [
       "5"
      ]
     },
     "execution_count": 44,
     "metadata": {},
     "output_type": "execute_result"
    }
   ],
   "source": [
    "len(set(labels))"
   ]
  },
  {
   "cell_type": "code",
   "execution_count": 45,
   "metadata": {},
   "outputs": [],
   "source": [
    "def show_clusters(X,cluster):\n",
    "\tdf=pd.DataFrame((dict(x=X[:,0],y=X[:,1],label=cluster)))\n",
    "\tcolors={0:'red',1:'blue',2:'green',3:'yellow',4:'orange'}\n",
    "\tfig,ax=plt.subplots(figsize=(8,8))\n",
    "\tgrouped=df.groupby(\"label\")\n",
    "\tfor key,group in grouped:\n",
    "\t\tgroup.plot(ax=ax,kind=\"scatter\",x='x',y='y',label=key,color=colors[key])\n",
    "\tplt.xlabel(\"x_1\")\n",
    "\tplt.ylabel(\"x_2\")\n",
    "\tplt.show()\t"
   ]
  },
  {
   "cell_type": "code",
   "execution_count": 46,
   "metadata": {},
   "outputs": [
    {
     "data": {
      "image/png": "[encoded data removed]",
      "text/plain": [
       "<Figure size 576x576 with 1 Axes>"
      ]
     },
     "metadata": {
      "needs_background": "light"
     },
     "output_type": "display_data"
    }
   ],
   "source": [
    "show_clusters(X,labels)"
   ]
  },
  {
   "cell_type": "markdown",
   "metadata": {},
   "source": [
    "Minorities label 1,2,3 has been pointed out as cluster as it can be seen in the given cluster."
   ]
  },
  {
   "cell_type": "code",
   "execution_count": null,
   "metadata": {},
   "outputs": [],
   "source": []
  }
 ],
 "metadata": {
  "kernelspec": {
   "display_name": "Python 3",
   "language": "python",
   "name": "python3"
  },
  "language_info": {
   "codemirror_mode": {
    "name": "ipython",
    "version": 3
   },
   "file_extension": ".py",
   "mimetype": "text/x-python",
   "name": "python",
   "nbconvert_exporter": "python",
   "pygments_lexer": "ipython3",
   "version": "3.7.3"
  }
 },
 "nbformat": 4,
 "nbformat_minor": 2
}
